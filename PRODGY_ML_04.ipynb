{
  "nbformat": 4,
  "nbformat_minor": 0,
  "metadata": {
    "colab": {
      "provenance": []
    },
    "kernelspec": {
      "name": "python3",
      "display_name": "Python 3"
    },
    "language_info": {
      "name": "python"
    }
  },
  "cells": [
    {
      "cell_type": "code",
      "execution_count": 1,
      "metadata": {
        "colab": {
          "base_uri": "https://localhost:8080/"
        },
        "id": "r3lEyTGPdG1z",
        "outputId": "1ddf4e30-f247-4afc-eb3b-dd1c8294a1f7"
      },
      "outputs": [
        {
          "output_type": "stream",
          "name": "stdout",
          "text": [
            "Mounted at /content/drive\n"
          ]
        }
      ],
      "source": [
        "from google.colab import drive\n",
        "drive.mount('/content/drive')\n",
        "\n",
        "# Set dataset path (Update with correct folder location)\n",
        "DATASET_PATH = \"/content/drive/MyDrive/leapGestRecog\"\n"
      ]
    },
    {
      "cell_type": "code",
      "source": [
        "from google.colab import drive\n",
        "import zipfile\n",
        "import os\n",
        "\n",
        "# Mount Google Drive\n",
        "drive.mount('/content/drive')\n",
        "\n",
        "# Define paths\n",
        "zip_path = \"/content/drive/MyDrive/leapGestRecog.zip\"  # Change if needed\n",
        "extract_path = \"/content/leapGestRecog\"\n",
        "\n",
        "# Extract the zip file\n",
        "with zipfile.ZipFile(zip_path, 'r') as zip_ref:\n",
        "    zip_ref.extractall(extract_path)\n",
        "\n",
        "print(\"Dataset extracted successfully!\")\n",
        "\n",
        "# Update dataset path\n",
        "DATASET_PATH = os.path.join(extract_path, \"leapGestRecog\")\n"
      ],
      "metadata": {
        "colab": {
          "base_uri": "https://localhost:8080/"
        },
        "id": "u5GyZuaQdhe5",
        "outputId": "81c2a0f5-7a81-4790-ae43-7df72823eb1e"
      },
      "execution_count": 2,
      "outputs": [
        {
          "output_type": "stream",
          "name": "stdout",
          "text": [
            "Drive already mounted at /content/drive; to attempt to forcibly remount, call drive.mount(\"/content/drive\", force_remount=True).\n",
            "Dataset extracted successfully!\n"
          ]
        }
      ]
    },
    {
      "cell_type": "code",
      "source": [
        "import numpy as np\n",
        "import cv2\n",
        "import tensorflow as tf\n",
        "import matplotlib.pyplot as plt\n",
        "from tensorflow.keras.models import Sequential\n",
        "from tensorflow.keras.layers import Conv2D, MaxPooling2D, Flatten, Dense, Dropout\n",
        "from sklearn.model_selection import train_test_split\n",
        "\n",
        "# 📌 Step 4: Load and Preprocess Images\n",
        "def load_images(dataset_path):\n",
        "    images, labels = [], []\n",
        "    class_map = {}  # Dictionary to store class labels\n",
        "    label_index = 0\n",
        "\n",
        "    for class_folder in sorted(os.listdir(dataset_path)):\n",
        "        class_path = os.path.join(dataset_path, class_folder)\n",
        "        if os.path.isdir(class_path):\n",
        "            class_map[label_index] = class_folder  # Assign folder name to label index\n",
        "            for img_file in os.listdir(class_path):\n",
        "                img_path = os.path.join(class_path, img_file)\n",
        "                img = cv2.imread(img_path, cv2.IMREAD_GRAYSCALE)  # Convert to grayscale\n",
        "                img = cv2.resize(img, (64, 64))  # Resize to 64x64 pixels\n",
        "                images.append(img)\n",
        "                labels.append(label_index)\n",
        "            label_index += 1\n",
        "\n",
        "    images = np.array(images).reshape(-1, 64, 64, 1) / 255.0  # Normalize images\n",
        "    labels = np.array(labels)\n",
        "    return images, labels, class_map\n",
        "\n",
        "# 📌 Step 5: Load Data\n",
        "DATASET_PATH = \"/content/leapGestRecog\"  # Path to extracted dataset\n",
        "X, y, class_map = load_images(DATASET_PATH)\n",
        "\n",
        "# 📌 Step 6: Split Data into Training & Testing\n",
        "X_train, X_test, y_train, y_test = train_test_split(X, y, test_size=0.2, random_state=42)\n",
        "\n",
        "# 📌 Step 7: Define CNN Model\n",
        "model = Sequential([\n",
        "    Conv2D(32, (3, 3), activation='relu', input_shape=(64, 64, 1)),\n",
        "    MaxPooling2D((2, 2)),\n",
        "    Conv2D(64, (3, 3), activation='relu'),\n",
        "    MaxPooling2D((2, 2)),\n",
        "    Flatten(),\n",
        "    Dense(128, activation='relu'),\n",
        "    Dropout(0.5),\n",
        "    Dense(len(class_map), activation='softmax')\n",
        "])\n",
        "\n",
        "# 📌 Step 8: Compile Model\n",
        "model.compile(optimizer='adam', loss='sparse_categorical_crossentropy', metrics=['accuracy'])\n",
        "\n",
        "# 📌 Step 9: Train Model\n",
        "history = model.fit(X_train, y_train, epochs=10, validation_data=(X_test, y_test), batch_size=32)\n",
        "\n",
        "# 📌 Step 10: Evaluate Model\n",
        "test_loss, test_acc = model.evaluate(X_test, y_test)\n",
        "print(f\"Test Accuracy: {test_acc:.2f}\")\n",
        "\n",
        "# 📌 Step 11: Save Model\n",
        "model.save(\"hand_gesture_model.h5\")\n",
        "print(\"Model saved as hand_gesture_model.h5\")\n",
        "\n",
        "# 📌 Step 12: Plot Accuracy Curve\n",
        "plt.plot(history.history['accuracy'], label='Train Accuracy')\n",
        "plt.plot(history.history['val_accuracy'], label='Test Accuracy')\n",
        "plt.legend()\n",
        "plt.title('Training Performance')\n",
        "plt.show()"
      ],
      "metadata": {
        "colab": {
          "base_uri": "https://localhost:8080/",
          "height": 346
        },
        "id": "Mun1I2wTeGnQ",
        "outputId": "73b9fdce-08b8-4b8d-f4ae-2b6c3aafb2a2"
      },
      "execution_count": 3,
      "outputs": [
        {
          "output_type": "error",
          "ename": "error",
          "evalue": "OpenCV(4.11.0) /io/opencv/modules/imgproc/src/resize.cpp:4208: error: (-215:Assertion failed) !ssize.empty() in function 'resize'\n",
          "traceback": [
            "\u001b[0;31m---------------------------------------------------------------------------\u001b[0m",
            "\u001b[0;31merror\u001b[0m                                     Traceback (most recent call last)",
            "\u001b[0;32m<ipython-input-3-43060142bcba>\u001b[0m in \u001b[0;36m<cell line: 0>\u001b[0;34m()\u001b[0m\n\u001b[1;32m     31\u001b[0m \u001b[0;31m# 📌 Step 5: Load Data\u001b[0m\u001b[0;34m\u001b[0m\u001b[0;34m\u001b[0m\u001b[0m\n\u001b[1;32m     32\u001b[0m \u001b[0mDATASET_PATH\u001b[0m \u001b[0;34m=\u001b[0m \u001b[0;34m\"/content/leapGestRecog\"\u001b[0m  \u001b[0;31m# Path to extracted dataset\u001b[0m\u001b[0;34m\u001b[0m\u001b[0;34m\u001b[0m\u001b[0m\n\u001b[0;32m---> 33\u001b[0;31m \u001b[0mX\u001b[0m\u001b[0;34m,\u001b[0m \u001b[0my\u001b[0m\u001b[0;34m,\u001b[0m \u001b[0mclass_map\u001b[0m \u001b[0;34m=\u001b[0m \u001b[0mload_images\u001b[0m\u001b[0;34m(\u001b[0m\u001b[0mDATASET_PATH\u001b[0m\u001b[0;34m)\u001b[0m\u001b[0;34m\u001b[0m\u001b[0;34m\u001b[0m\u001b[0m\n\u001b[0m\u001b[1;32m     34\u001b[0m \u001b[0;34m\u001b[0m\u001b[0m\n\u001b[1;32m     35\u001b[0m \u001b[0;31m# 📌 Step 6: Split Data into Training & Testing\u001b[0m\u001b[0;34m\u001b[0m\u001b[0;34m\u001b[0m\u001b[0m\n",
            "\u001b[0;32m<ipython-input-3-43060142bcba>\u001b[0m in \u001b[0;36mload_images\u001b[0;34m(dataset_path)\u001b[0m\n\u001b[1;32m     20\u001b[0m                 \u001b[0mimg_path\u001b[0m \u001b[0;34m=\u001b[0m \u001b[0mos\u001b[0m\u001b[0;34m.\u001b[0m\u001b[0mpath\u001b[0m\u001b[0;34m.\u001b[0m\u001b[0mjoin\u001b[0m\u001b[0;34m(\u001b[0m\u001b[0mclass_path\u001b[0m\u001b[0;34m,\u001b[0m \u001b[0mimg_file\u001b[0m\u001b[0;34m)\u001b[0m\u001b[0;34m\u001b[0m\u001b[0;34m\u001b[0m\u001b[0m\n\u001b[1;32m     21\u001b[0m                 \u001b[0mimg\u001b[0m \u001b[0;34m=\u001b[0m \u001b[0mcv2\u001b[0m\u001b[0;34m.\u001b[0m\u001b[0mimread\u001b[0m\u001b[0;34m(\u001b[0m\u001b[0mimg_path\u001b[0m\u001b[0;34m,\u001b[0m \u001b[0mcv2\u001b[0m\u001b[0;34m.\u001b[0m\u001b[0mIMREAD_GRAYSCALE\u001b[0m\u001b[0;34m)\u001b[0m  \u001b[0;31m# Convert to grayscale\u001b[0m\u001b[0;34m\u001b[0m\u001b[0;34m\u001b[0m\u001b[0m\n\u001b[0;32m---> 22\u001b[0;31m                 \u001b[0mimg\u001b[0m \u001b[0;34m=\u001b[0m \u001b[0mcv2\u001b[0m\u001b[0;34m.\u001b[0m\u001b[0mresize\u001b[0m\u001b[0;34m(\u001b[0m\u001b[0mimg\u001b[0m\u001b[0;34m,\u001b[0m \u001b[0;34m(\u001b[0m\u001b[0;36m64\u001b[0m\u001b[0;34m,\u001b[0m \u001b[0;36m64\u001b[0m\u001b[0;34m)\u001b[0m\u001b[0;34m)\u001b[0m  \u001b[0;31m# Resize to 64x64 pixels\u001b[0m\u001b[0;34m\u001b[0m\u001b[0;34m\u001b[0m\u001b[0m\n\u001b[0m\u001b[1;32m     23\u001b[0m                 \u001b[0mimages\u001b[0m\u001b[0;34m.\u001b[0m\u001b[0mappend\u001b[0m\u001b[0;34m(\u001b[0m\u001b[0mimg\u001b[0m\u001b[0;34m)\u001b[0m\u001b[0;34m\u001b[0m\u001b[0;34m\u001b[0m\u001b[0m\n\u001b[1;32m     24\u001b[0m                 \u001b[0mlabels\u001b[0m\u001b[0;34m.\u001b[0m\u001b[0mappend\u001b[0m\u001b[0;34m(\u001b[0m\u001b[0mlabel_index\u001b[0m\u001b[0;34m)\u001b[0m\u001b[0;34m\u001b[0m\u001b[0;34m\u001b[0m\u001b[0m\n",
            "\u001b[0;31merror\u001b[0m: OpenCV(4.11.0) /io/opencv/modules/imgproc/src/resize.cpp:4208: error: (-215:Assertion failed) !ssize.empty() in function 'resize'\n"
          ]
        }
      ]
    },
    {
      "cell_type": "code",
      "source": [
        "def load_images(dataset_path):\n",
        "    images, labels = [], []\n",
        "    class_map = {}  # Dictionary to store class labels\n",
        "    label_index = 0\n",
        "\n",
        "    for class_folder in sorted(os.listdir(dataset_path)):\n",
        "        class_path = os.path.join(dataset_path, class_folder)\n",
        "        if os.path.isdir(class_path):\n",
        "            class_map[label_index] = class_folder  # Assign folder name to label index\n",
        "            for img_file in os.listdir(class_path):\n",
        "                img_path = os.path.join(class_path, img_file)\n",
        "\n",
        "                # Debugging: Check if image exists\n",
        "                if not os.path.exists(img_path):\n",
        "                    print(f\"❌ File not found: {img_path}\")\n",
        "                    continue\n",
        "\n",
        "                img = cv2.imread(img_path, cv2.IMREAD_GRAYSCALE)\n",
        "\n",
        "                # Debugging: Check if the image was loaded\n",
        "                if img is None:\n",
        "                    print(f\"⚠️ Warning: Could not read image {img_path}\")\n",
        "                    continue\n",
        "\n",
        "                img = cv2.resize(img, (64, 64))  # Resize to 64x64 pixels\n",
        "                images.append(img)\n",
        "                labels.append(label_index)\n",
        "            label_index += 1\n",
        "\n",
        "    images = np.array(images).reshape(-1, 64, 64, 1) / 255.0  # Normalize images\n",
        "    labels = np.array(labels)\n",
        "    return images, labels, class_map\n"
      ],
      "metadata": {
        "id": "QjjIbT2ceVjK"
      },
      "execution_count": 4,
      "outputs": []
    },
    {
      "cell_type": "code",
      "source": [
        "import os\n",
        "print(os.listdir(\"/content/leapGestRecog\"))  # Check folder names\n"
      ],
      "metadata": {
        "colab": {
          "base_uri": "https://localhost:8080/"
        },
        "id": "KaWZesAJeg9A",
        "outputId": "61f61853-2de0-4b24-fb4e-d3d034e08e63"
      },
      "execution_count": 5,
      "outputs": [
        {
          "output_type": "stream",
          "name": "stdout",
          "text": [
            "['leapGestRecog', 'leapgestrecog']\n"
          ]
        }
      ]
    },
    {
      "cell_type": "code",
      "source": [
        "import os\n",
        "\n",
        "path1 = \"/content/leapGestRecog\"\n",
        "path2 = \"/content/leapgestrecog\"\n",
        "\n",
        "print(\"Path 1 contents:\", os.listdir(path1) if os.path.exists(path1) else \"Path not found\")\n",
        "print(\"Path 2 contents:\", os.listdir(path2) if os.path.exists(path2) else \"Path not found\")\n"
      ],
      "metadata": {
        "colab": {
          "base_uri": "https://localhost:8080/"
        },
        "id": "fsUKdiMSeqIZ",
        "outputId": "732ce6ba-1ab6-4b0f-83fd-ef579935659f"
      },
      "execution_count": 6,
      "outputs": [
        {
          "output_type": "stream",
          "name": "stdout",
          "text": [
            "Path 1 contents: ['leapGestRecog', 'leapgestrecog']\n",
            "Path 2 contents: Path not found\n"
          ]
        }
      ]
    },
    {
      "cell_type": "code",
      "source": [
        "DATASET_PATH = \"/content/leapGestRecog/leapGestRecog\"\n"
      ],
      "metadata": {
        "id": "Nb7FvX4MewhV"
      },
      "execution_count": 7,
      "outputs": []
    },
    {
      "cell_type": "code",
      "source": [
        "X, y, class_map = load_images(DATASET_PATH)\n"
      ],
      "metadata": {
        "colab": {
          "base_uri": "https://localhost:8080/"
        },
        "id": "I9_eWKMeexq2",
        "outputId": "27369549-89f7-4ffa-fb26-7d1c001c5306"
      },
      "execution_count": 8,
      "outputs": [
        {
          "output_type": "stream",
          "name": "stdout",
          "text": [
            "⚠️ Warning: Could not read image /content/leapGestRecog/leapGestRecog/00/07_ok\n",
            "⚠️ Warning: Could not read image /content/leapGestRecog/leapGestRecog/00/03_fist\n",
            "⚠️ Warning: Could not read image /content/leapGestRecog/leapGestRecog/00/04_fist_moved\n",
            "⚠️ Warning: Could not read image /content/leapGestRecog/leapGestRecog/00/09_c\n",
            "⚠️ Warning: Could not read image /content/leapGestRecog/leapGestRecog/00/10_down\n",
            "⚠️ Warning: Could not read image /content/leapGestRecog/leapGestRecog/00/06_index\n",
            "⚠️ Warning: Could not read image /content/leapGestRecog/leapGestRecog/00/01_palm\n",
            "⚠️ Warning: Could not read image /content/leapGestRecog/leapGestRecog/00/05_thumb\n",
            "⚠️ Warning: Could not read image /content/leapGestRecog/leapGestRecog/00/02_l\n",
            "⚠️ Warning: Could not read image /content/leapGestRecog/leapGestRecog/00/08_palm_moved\n",
            "⚠️ Warning: Could not read image /content/leapGestRecog/leapGestRecog/01/07_ok\n",
            "⚠️ Warning: Could not read image /content/leapGestRecog/leapGestRecog/01/03_fist\n",
            "⚠️ Warning: Could not read image /content/leapGestRecog/leapGestRecog/01/04_fist_moved\n",
            "⚠️ Warning: Could not read image /content/leapGestRecog/leapGestRecog/01/09_c\n",
            "⚠️ Warning: Could not read image /content/leapGestRecog/leapGestRecog/01/10_down\n",
            "⚠️ Warning: Could not read image /content/leapGestRecog/leapGestRecog/01/06_index\n",
            "⚠️ Warning: Could not read image /content/leapGestRecog/leapGestRecog/01/01_palm\n",
            "⚠️ Warning: Could not read image /content/leapGestRecog/leapGestRecog/01/05_thumb\n",
            "⚠️ Warning: Could not read image /content/leapGestRecog/leapGestRecog/01/02_l\n",
            "⚠️ Warning: Could not read image /content/leapGestRecog/leapGestRecog/01/08_palm_moved\n",
            "⚠️ Warning: Could not read image /content/leapGestRecog/leapGestRecog/02/07_ok\n",
            "⚠️ Warning: Could not read image /content/leapGestRecog/leapGestRecog/02/03_fist\n",
            "⚠️ Warning: Could not read image /content/leapGestRecog/leapGestRecog/02/04_fist_moved\n",
            "⚠️ Warning: Could not read image /content/leapGestRecog/leapGestRecog/02/09_c\n",
            "⚠️ Warning: Could not read image /content/leapGestRecog/leapGestRecog/02/10_down\n",
            "⚠️ Warning: Could not read image /content/leapGestRecog/leapGestRecog/02/06_index\n",
            "⚠️ Warning: Could not read image /content/leapGestRecog/leapGestRecog/02/01_palm\n",
            "⚠️ Warning: Could not read image /content/leapGestRecog/leapGestRecog/02/05_thumb\n",
            "⚠️ Warning: Could not read image /content/leapGestRecog/leapGestRecog/02/02_l\n",
            "⚠️ Warning: Could not read image /content/leapGestRecog/leapGestRecog/02/08_palm_moved\n",
            "⚠️ Warning: Could not read image /content/leapGestRecog/leapGestRecog/03/07_ok\n",
            "⚠️ Warning: Could not read image /content/leapGestRecog/leapGestRecog/03/03_fist\n",
            "⚠️ Warning: Could not read image /content/leapGestRecog/leapGestRecog/03/04_fist_moved\n",
            "⚠️ Warning: Could not read image /content/leapGestRecog/leapGestRecog/03/09_c\n",
            "⚠️ Warning: Could not read image /content/leapGestRecog/leapGestRecog/03/10_down\n",
            "⚠️ Warning: Could not read image /content/leapGestRecog/leapGestRecog/03/06_index\n",
            "⚠️ Warning: Could not read image /content/leapGestRecog/leapGestRecog/03/01_palm\n",
            "⚠️ Warning: Could not read image /content/leapGestRecog/leapGestRecog/03/05_thumb\n",
            "⚠️ Warning: Could not read image /content/leapGestRecog/leapGestRecog/03/02_l\n",
            "⚠️ Warning: Could not read image /content/leapGestRecog/leapGestRecog/03/08_palm_moved\n",
            "⚠️ Warning: Could not read image /content/leapGestRecog/leapGestRecog/04/07_ok\n",
            "⚠️ Warning: Could not read image /content/leapGestRecog/leapGestRecog/04/03_fist\n",
            "⚠️ Warning: Could not read image /content/leapGestRecog/leapGestRecog/04/04_fist_moved\n",
            "⚠️ Warning: Could not read image /content/leapGestRecog/leapGestRecog/04/09_c\n",
            "⚠️ Warning: Could not read image /content/leapGestRecog/leapGestRecog/04/10_down\n",
            "⚠️ Warning: Could not read image /content/leapGestRecog/leapGestRecog/04/06_index\n",
            "⚠️ Warning: Could not read image /content/leapGestRecog/leapGestRecog/04/01_palm\n",
            "⚠️ Warning: Could not read image /content/leapGestRecog/leapGestRecog/04/05_thumb\n",
            "⚠️ Warning: Could not read image /content/leapGestRecog/leapGestRecog/04/02_l\n",
            "⚠️ Warning: Could not read image /content/leapGestRecog/leapGestRecog/04/08_palm_moved\n",
            "⚠️ Warning: Could not read image /content/leapGestRecog/leapGestRecog/05/07_ok\n",
            "⚠️ Warning: Could not read image /content/leapGestRecog/leapGestRecog/05/03_fist\n",
            "⚠️ Warning: Could not read image /content/leapGestRecog/leapGestRecog/05/04_fist_moved\n",
            "⚠️ Warning: Could not read image /content/leapGestRecog/leapGestRecog/05/09_c\n",
            "⚠️ Warning: Could not read image /content/leapGestRecog/leapGestRecog/05/10_down\n",
            "⚠️ Warning: Could not read image /content/leapGestRecog/leapGestRecog/05/06_index\n",
            "⚠️ Warning: Could not read image /content/leapGestRecog/leapGestRecog/05/01_palm\n",
            "⚠️ Warning: Could not read image /content/leapGestRecog/leapGestRecog/05/05_thumb\n",
            "⚠️ Warning: Could not read image /content/leapGestRecog/leapGestRecog/05/02_l\n",
            "⚠️ Warning: Could not read image /content/leapGestRecog/leapGestRecog/05/08_palm_moved\n",
            "⚠️ Warning: Could not read image /content/leapGestRecog/leapGestRecog/06/07_ok\n",
            "⚠️ Warning: Could not read image /content/leapGestRecog/leapGestRecog/06/03_fist\n",
            "⚠️ Warning: Could not read image /content/leapGestRecog/leapGestRecog/06/04_fist_moved\n",
            "⚠️ Warning: Could not read image /content/leapGestRecog/leapGestRecog/06/09_c\n",
            "⚠️ Warning: Could not read image /content/leapGestRecog/leapGestRecog/06/10_down\n",
            "⚠️ Warning: Could not read image /content/leapGestRecog/leapGestRecog/06/06_index\n",
            "⚠️ Warning: Could not read image /content/leapGestRecog/leapGestRecog/06/01_palm\n",
            "⚠️ Warning: Could not read image /content/leapGestRecog/leapGestRecog/06/05_thumb\n",
            "⚠️ Warning: Could not read image /content/leapGestRecog/leapGestRecog/06/02_l\n",
            "⚠️ Warning: Could not read image /content/leapGestRecog/leapGestRecog/06/08_palm_moved\n",
            "⚠️ Warning: Could not read image /content/leapGestRecog/leapGestRecog/07/07_ok\n",
            "⚠️ Warning: Could not read image /content/leapGestRecog/leapGestRecog/07/03_fist\n",
            "⚠️ Warning: Could not read image /content/leapGestRecog/leapGestRecog/07/04_fist_moved\n",
            "⚠️ Warning: Could not read image /content/leapGestRecog/leapGestRecog/07/09_c\n",
            "⚠️ Warning: Could not read image /content/leapGestRecog/leapGestRecog/07/10_down\n",
            "⚠️ Warning: Could not read image /content/leapGestRecog/leapGestRecog/07/06_index\n",
            "⚠️ Warning: Could not read image /content/leapGestRecog/leapGestRecog/07/01_palm\n",
            "⚠️ Warning: Could not read image /content/leapGestRecog/leapGestRecog/07/05_thumb\n",
            "⚠️ Warning: Could not read image /content/leapGestRecog/leapGestRecog/07/02_l\n",
            "⚠️ Warning: Could not read image /content/leapGestRecog/leapGestRecog/07/08_palm_moved\n",
            "⚠️ Warning: Could not read image /content/leapGestRecog/leapGestRecog/08/07_ok\n",
            "⚠️ Warning: Could not read image /content/leapGestRecog/leapGestRecog/08/03_fist\n",
            "⚠️ Warning: Could not read image /content/leapGestRecog/leapGestRecog/08/04_fist_moved\n",
            "⚠️ Warning: Could not read image /content/leapGestRecog/leapGestRecog/08/09_c\n",
            "⚠️ Warning: Could not read image /content/leapGestRecog/leapGestRecog/08/10_down\n",
            "⚠️ Warning: Could not read image /content/leapGestRecog/leapGestRecog/08/06_index\n",
            "⚠️ Warning: Could not read image /content/leapGestRecog/leapGestRecog/08/01_palm\n",
            "⚠️ Warning: Could not read image /content/leapGestRecog/leapGestRecog/08/05_thumb\n",
            "⚠️ Warning: Could not read image /content/leapGestRecog/leapGestRecog/08/02_l\n",
            "⚠️ Warning: Could not read image /content/leapGestRecog/leapGestRecog/08/08_palm_moved\n",
            "⚠️ Warning: Could not read image /content/leapGestRecog/leapGestRecog/09/07_ok\n",
            "⚠️ Warning: Could not read image /content/leapGestRecog/leapGestRecog/09/03_fist\n",
            "⚠️ Warning: Could not read image /content/leapGestRecog/leapGestRecog/09/04_fist_moved\n",
            "⚠️ Warning: Could not read image /content/leapGestRecog/leapGestRecog/09/09_c\n",
            "⚠️ Warning: Could not read image /content/leapGestRecog/leapGestRecog/09/10_down\n",
            "⚠️ Warning: Could not read image /content/leapGestRecog/leapGestRecog/09/06_index\n",
            "⚠️ Warning: Could not read image /content/leapGestRecog/leapGestRecog/09/01_palm\n",
            "⚠️ Warning: Could not read image /content/leapGestRecog/leapGestRecog/09/05_thumb\n",
            "⚠️ Warning: Could not read image /content/leapGestRecog/leapGestRecog/09/02_l\n",
            "⚠️ Warning: Could not read image /content/leapGestRecog/leapGestRecog/09/08_palm_moved\n"
          ]
        }
      ]
    },
    {
      "cell_type": "code",
      "source": [
        "import os\n",
        "\n",
        "DATASET_PATH = \"/content/leapGestRecog/leapGestRecog\"\n",
        "\n",
        "# List the first few files inside the dataset\n",
        "for folder in sorted(os.listdir(DATASET_PATH)):\n",
        "    folder_path = os.path.join(DATASET_PATH, folder)\n",
        "    if os.path.isdir(folder_path):\n",
        "        print(f\"📂 Folder: {folder}\")\n",
        "        print(\"📝 Files:\", os.listdir(folder_path)[:5])  # Show first 5 files\n",
        "        break  # Only check the first folder\n"
      ],
      "metadata": {
        "colab": {
          "base_uri": "https://localhost:8080/"
        },
        "id": "Q3jgUxMSe78R",
        "outputId": "b768fa60-e3f5-45ef-bda8-23fffda5335d"
      },
      "execution_count": 9,
      "outputs": [
        {
          "output_type": "stream",
          "name": "stdout",
          "text": [
            "📂 Folder: 00\n",
            "📝 Files: ['07_ok', '03_fist', '04_fist_moved', '09_c', '10_down']\n"
          ]
        }
      ]
    },
    {
      "cell_type": "code",
      "source": [
        "def load_images(dataset_path):\n",
        "    images, labels = [], []\n",
        "    class_map = {}\n",
        "    label_index = 0\n",
        "\n",
        "    for class_folder in sorted(os.listdir(dataset_path)):  # \"00\", \"01\", etc.\n",
        "        class_path = os.path.join(dataset_path, class_folder)\n",
        "        if os.path.isdir(class_path):\n",
        "            class_map[label_index] = class_folder\n",
        "\n",
        "            for gesture_folder in sorted(os.listdir(class_path)):  # \"07_ok\", \"03_fist\", etc.\n",
        "                gesture_path = os.path.join(class_path, gesture_folder)\n",
        "\n",
        "                # 🔥 Check if it's actually a folder\n",
        "                if os.path.isdir(gesture_path):\n",
        "                    for img_file in os.listdir(gesture_path):  # Read images inside it\n",
        "                        img_path = os.path.join(gesture_path, img_file)\n",
        "\n",
        "                        # 🔍 Debugging: Check if the file is an actual image\n",
        "                        if not img_path.lower().endswith(('.png', '.jpg', '.jpeg')):\n",
        "                            print(f\"❌ Skipping non-image file: {img_path}\")\n",
        "                            continue\n",
        "\n",
        "                        img = cv2.imread(img_path, cv2.IMREAD_GRAYSCALE)\n",
        "                        if img is None:\n",
        "                            print(f\"⚠️ Warning: Could not read image {img_path}\")\n",
        "                            continue\n",
        "\n",
        "                        img = cv2.resize(img, (64, 64))\n",
        "                        images.append(img)\n",
        "                        labels.append(label_index)\n",
        "\n",
        "            label_index += 1\n",
        "\n",
        "    images = np.array(images).reshape(-1, 64, 64, 1) / 255.0\n",
        "    labels = np.array(labels)\n",
        "    return images, labels, class_map\n"
      ],
      "metadata": {
        "id": "hhqnd_vgfHS1"
      },
      "execution_count": 10,
      "outputs": []
    },
    {
      "cell_type": "code",
      "source": [
        "DATASET_PATH = \"/content/leapGestRecog/leapGestRecog\"\n"
      ],
      "metadata": {
        "id": "hfLsGy8dfK9M"
      },
      "execution_count": 11,
      "outputs": []
    },
    {
      "cell_type": "code",
      "source": [
        "import os\n",
        "import numpy as np\n",
        "import cv2\n",
        "import tensorflow as tf\n",
        "from tensorflow.keras.models import Sequential\n",
        "from tensorflow.keras.layers import Conv2D, MaxPooling2D, Flatten, Dense, Dropout\n",
        "from sklearn.model_selection import train_test_split\n",
        "import matplotlib.pyplot as plt\n"
      ],
      "metadata": {
        "id": "ugxZMo_NfTBE"
      },
      "execution_count": 12,
      "outputs": []
    },
    {
      "cell_type": "code",
      "source": [
        "def load_images(dataset_path):\n",
        "    images, labels = [], []\n",
        "    class_map = {}\n",
        "    label_index = 0\n",
        "\n",
        "    for class_folder in sorted(os.listdir(dataset_path)):  # \"00\", \"01\", etc.\n",
        "        class_path = os.path.join(dataset_path, class_folder)\n",
        "        if os.path.isdir(class_path):\n",
        "            class_map[label_index] = class_folder\n",
        "\n",
        "            for gesture_folder in sorted(os.listdir(class_path)):  # \"07_ok\", \"03_fist\", etc.\n",
        "                gesture_path = os.path.join(class_path, gesture_folder)\n",
        "\n",
        "                if os.path.isdir(gesture_path):\n",
        "                    for img_file in os.listdir(gesture_path):\n",
        "                        img_path = os.path.join(gesture_path, img_file)\n",
        "\n",
        "                        # Skip non-image files\n",
        "                        if not img_path.lower().endswith(('.png', '.jpg', '.jpeg')):\n",
        "                            continue\n",
        "\n",
        "                        img = cv2.imread(img_path, cv2.IMREAD_GRAYSCALE)\n",
        "                        if img is None:\n",
        "                            print(f\"⚠️ Warning: Could not read image {img_path}\")\n",
        "                            continue\n",
        "\n",
        "                        img = cv2.resize(img, (64, 64))\n",
        "                        images.append(img)\n",
        "                        labels.append(label_index)\n",
        "\n",
        "            label_index += 1\n",
        "\n",
        "    images = np.array(images).reshape(-1, 64, 64, 1) / 255.0\n",
        "    labels = np.array(labels)\n",
        "    return images, labels, class_map\n"
      ],
      "metadata": {
        "id": "Zt2w6LSrfW1M"
      },
      "execution_count": 13,
      "outputs": []
    },
    {
      "cell_type": "code",
      "source": [
        "DATASET_PATH = \"/content/leapGestRecog/leapGestRecog\"\n",
        "X, y, class_map = load_images(DATASET_PATH)\n",
        "print(f\"✅ Loaded {len(X)} images from {len(class_map)} gesture classes.\")\n"
      ],
      "metadata": {
        "colab": {
          "base_uri": "https://localhost:8080/"
        },
        "id": "qT1nZvgrfX_X",
        "outputId": "f1bf600f-3df7-4ba7-ce83-a5703207184f"
      },
      "execution_count": 14,
      "outputs": [
        {
          "output_type": "stream",
          "name": "stdout",
          "text": [
            "✅ Loaded 20000 images from 10 gesture classes.\n"
          ]
        }
      ]
    },
    {
      "cell_type": "code",
      "source": [
        "X_train, X_test, y_train, y_test = train_test_split(X, y, test_size=0.2, stratify=y, random_state=42)\n"
      ],
      "metadata": {
        "id": "F-rgoCpXfuMq"
      },
      "execution_count": 15,
      "outputs": []
    },
    {
      "cell_type": "code",
      "source": [
        "model = Sequential([\n",
        "    Conv2D(32, (3, 3), activation='relu', input_shape=(64, 64, 1)),\n",
        "    MaxPooling2D(2, 2),\n",
        "\n",
        "    Conv2D(64, (3, 3), activation='relu'),\n",
        "    MaxPooling2D(2, 2),\n",
        "\n",
        "    Conv2D(128, (3, 3), activation='relu'),\n",
        "    MaxPooling2D(2, 2),\n",
        "\n",
        "    Flatten(),\n",
        "    Dense(128, activation='relu'),\n",
        "    Dropout(0.3),\n",
        "    Dense(len(class_map), activation='softmax')  # Output layer (num of classes)\n",
        "])\n",
        "\n",
        "model.compile(optimizer='adam', loss='sparse_categorical_crossentropy', metrics=['accuracy'])\n",
        "model.summary()\n"
      ],
      "metadata": {
        "colab": {
          "base_uri": "https://localhost:8080/",
          "height": 505
        },
        "id": "V5BZFY6zfxU5",
        "outputId": "cf81cb0e-4d12-42f0-a52f-b204c25ef492"
      },
      "execution_count": 16,
      "outputs": [
        {
          "output_type": "stream",
          "name": "stderr",
          "text": [
            "/usr/local/lib/python3.11/dist-packages/keras/src/layers/convolutional/base_conv.py:107: UserWarning: Do not pass an `input_shape`/`input_dim` argument to a layer. When using Sequential models, prefer using an `Input(shape)` object as the first layer in the model instead.\n",
            "  super().__init__(activity_regularizer=activity_regularizer, **kwargs)\n"
          ]
        },
        {
          "output_type": "display_data",
          "data": {
            "text/plain": [
              "\u001b[1mModel: \"sequential\"\u001b[0m\n"
            ],
            "text/html": [
              "<pre style=\"white-space:pre;overflow-x:auto;line-height:normal;font-family:Menlo,'DejaVu Sans Mono',consolas,'Courier New',monospace\"><span style=\"font-weight: bold\">Model: \"sequential\"</span>\n",
              "</pre>\n"
            ]
          },
          "metadata": {}
        },
        {
          "output_type": "display_data",
          "data": {
            "text/plain": [
              "┏━━━━━━━━━━━━━━━━━━━━━━━━━━━━━━━━━━━━━━┳━━━━━━━━━━━━━━━━━━━━━━━━━━━━━┳━━━━━━━━━━━━━━━━━┓\n",
              "┃\u001b[1m \u001b[0m\u001b[1mLayer (type)                        \u001b[0m\u001b[1m \u001b[0m┃\u001b[1m \u001b[0m\u001b[1mOutput Shape               \u001b[0m\u001b[1m \u001b[0m┃\u001b[1m \u001b[0m\u001b[1m        Param #\u001b[0m\u001b[1m \u001b[0m┃\n",
              "┡━━━━━━━━━━━━━━━━━━━━━━━━━━━━━━━━━━━━━━╇━━━━━━━━━━━━━━━━━━━━━━━━━━━━━╇━━━━━━━━━━━━━━━━━┩\n",
              "│ conv2d (\u001b[38;5;33mConv2D\u001b[0m)                      │ (\u001b[38;5;45mNone\u001b[0m, \u001b[38;5;34m62\u001b[0m, \u001b[38;5;34m62\u001b[0m, \u001b[38;5;34m32\u001b[0m)          │             \u001b[38;5;34m320\u001b[0m │\n",
              "├──────────────────────────────────────┼─────────────────────────────┼─────────────────┤\n",
              "│ max_pooling2d (\u001b[38;5;33mMaxPooling2D\u001b[0m)         │ (\u001b[38;5;45mNone\u001b[0m, \u001b[38;5;34m31\u001b[0m, \u001b[38;5;34m31\u001b[0m, \u001b[38;5;34m32\u001b[0m)          │               \u001b[38;5;34m0\u001b[0m │\n",
              "├──────────────────────────────────────┼─────────────────────────────┼─────────────────┤\n",
              "│ conv2d_1 (\u001b[38;5;33mConv2D\u001b[0m)                    │ (\u001b[38;5;45mNone\u001b[0m, \u001b[38;5;34m29\u001b[0m, \u001b[38;5;34m29\u001b[0m, \u001b[38;5;34m64\u001b[0m)          │          \u001b[38;5;34m18,496\u001b[0m │\n",
              "├──────────────────────────────────────┼─────────────────────────────┼─────────────────┤\n",
              "│ max_pooling2d_1 (\u001b[38;5;33mMaxPooling2D\u001b[0m)       │ (\u001b[38;5;45mNone\u001b[0m, \u001b[38;5;34m14\u001b[0m, \u001b[38;5;34m14\u001b[0m, \u001b[38;5;34m64\u001b[0m)          │               \u001b[38;5;34m0\u001b[0m │\n",
              "├──────────────────────────────────────┼─────────────────────────────┼─────────────────┤\n",
              "│ conv2d_2 (\u001b[38;5;33mConv2D\u001b[0m)                    │ (\u001b[38;5;45mNone\u001b[0m, \u001b[38;5;34m12\u001b[0m, \u001b[38;5;34m12\u001b[0m, \u001b[38;5;34m128\u001b[0m)         │          \u001b[38;5;34m73,856\u001b[0m │\n",
              "├──────────────────────────────────────┼─────────────────────────────┼─────────────────┤\n",
              "│ max_pooling2d_2 (\u001b[38;5;33mMaxPooling2D\u001b[0m)       │ (\u001b[38;5;45mNone\u001b[0m, \u001b[38;5;34m6\u001b[0m, \u001b[38;5;34m6\u001b[0m, \u001b[38;5;34m128\u001b[0m)           │               \u001b[38;5;34m0\u001b[0m │\n",
              "├──────────────────────────────────────┼─────────────────────────────┼─────────────────┤\n",
              "│ flatten (\u001b[38;5;33mFlatten\u001b[0m)                    │ (\u001b[38;5;45mNone\u001b[0m, \u001b[38;5;34m4608\u001b[0m)                │               \u001b[38;5;34m0\u001b[0m │\n",
              "├──────────────────────────────────────┼─────────────────────────────┼─────────────────┤\n",
              "│ dense (\u001b[38;5;33mDense\u001b[0m)                        │ (\u001b[38;5;45mNone\u001b[0m, \u001b[38;5;34m128\u001b[0m)                 │         \u001b[38;5;34m589,952\u001b[0m │\n",
              "├──────────────────────────────────────┼─────────────────────────────┼─────────────────┤\n",
              "│ dropout (\u001b[38;5;33mDropout\u001b[0m)                    │ (\u001b[38;5;45mNone\u001b[0m, \u001b[38;5;34m128\u001b[0m)                 │               \u001b[38;5;34m0\u001b[0m │\n",
              "├──────────────────────────────────────┼─────────────────────────────┼─────────────────┤\n",
              "│ dense_1 (\u001b[38;5;33mDense\u001b[0m)                      │ (\u001b[38;5;45mNone\u001b[0m, \u001b[38;5;34m10\u001b[0m)                  │           \u001b[38;5;34m1,290\u001b[0m │\n",
              "└──────────────────────────────────────┴─────────────────────────────┴─────────────────┘\n"
            ],
            "text/html": [
              "<pre style=\"white-space:pre;overflow-x:auto;line-height:normal;font-family:Menlo,'DejaVu Sans Mono',consolas,'Courier New',monospace\">┏━━━━━━━━━━━━━━━━━━━━━━━━━━━━━━━━━━━━━━┳━━━━━━━━━━━━━━━━━━━━━━━━━━━━━┳━━━━━━━━━━━━━━━━━┓\n",
              "┃<span style=\"font-weight: bold\"> Layer (type)                         </span>┃<span style=\"font-weight: bold\"> Output Shape                </span>┃<span style=\"font-weight: bold\">         Param # </span>┃\n",
              "┡━━━━━━━━━━━━━━━━━━━━━━━━━━━━━━━━━━━━━━╇━━━━━━━━━━━━━━━━━━━━━━━━━━━━━╇━━━━━━━━━━━━━━━━━┩\n",
              "│ conv2d (<span style=\"color: #0087ff; text-decoration-color: #0087ff\">Conv2D</span>)                      │ (<span style=\"color: #00d7ff; text-decoration-color: #00d7ff\">None</span>, <span style=\"color: #00af00; text-decoration-color: #00af00\">62</span>, <span style=\"color: #00af00; text-decoration-color: #00af00\">62</span>, <span style=\"color: #00af00; text-decoration-color: #00af00\">32</span>)          │             <span style=\"color: #00af00; text-decoration-color: #00af00\">320</span> │\n",
              "├──────────────────────────────────────┼─────────────────────────────┼─────────────────┤\n",
              "│ max_pooling2d (<span style=\"color: #0087ff; text-decoration-color: #0087ff\">MaxPooling2D</span>)         │ (<span style=\"color: #00d7ff; text-decoration-color: #00d7ff\">None</span>, <span style=\"color: #00af00; text-decoration-color: #00af00\">31</span>, <span style=\"color: #00af00; text-decoration-color: #00af00\">31</span>, <span style=\"color: #00af00; text-decoration-color: #00af00\">32</span>)          │               <span style=\"color: #00af00; text-decoration-color: #00af00\">0</span> │\n",
              "├──────────────────────────────────────┼─────────────────────────────┼─────────────────┤\n",
              "│ conv2d_1 (<span style=\"color: #0087ff; text-decoration-color: #0087ff\">Conv2D</span>)                    │ (<span style=\"color: #00d7ff; text-decoration-color: #00d7ff\">None</span>, <span style=\"color: #00af00; text-decoration-color: #00af00\">29</span>, <span style=\"color: #00af00; text-decoration-color: #00af00\">29</span>, <span style=\"color: #00af00; text-decoration-color: #00af00\">64</span>)          │          <span style=\"color: #00af00; text-decoration-color: #00af00\">18,496</span> │\n",
              "├──────────────────────────────────────┼─────────────────────────────┼─────────────────┤\n",
              "│ max_pooling2d_1 (<span style=\"color: #0087ff; text-decoration-color: #0087ff\">MaxPooling2D</span>)       │ (<span style=\"color: #00d7ff; text-decoration-color: #00d7ff\">None</span>, <span style=\"color: #00af00; text-decoration-color: #00af00\">14</span>, <span style=\"color: #00af00; text-decoration-color: #00af00\">14</span>, <span style=\"color: #00af00; text-decoration-color: #00af00\">64</span>)          │               <span style=\"color: #00af00; text-decoration-color: #00af00\">0</span> │\n",
              "├──────────────────────────────────────┼─────────────────────────────┼─────────────────┤\n",
              "│ conv2d_2 (<span style=\"color: #0087ff; text-decoration-color: #0087ff\">Conv2D</span>)                    │ (<span style=\"color: #00d7ff; text-decoration-color: #00d7ff\">None</span>, <span style=\"color: #00af00; text-decoration-color: #00af00\">12</span>, <span style=\"color: #00af00; text-decoration-color: #00af00\">12</span>, <span style=\"color: #00af00; text-decoration-color: #00af00\">128</span>)         │          <span style=\"color: #00af00; text-decoration-color: #00af00\">73,856</span> │\n",
              "├──────────────────────────────────────┼─────────────────────────────┼─────────────────┤\n",
              "│ max_pooling2d_2 (<span style=\"color: #0087ff; text-decoration-color: #0087ff\">MaxPooling2D</span>)       │ (<span style=\"color: #00d7ff; text-decoration-color: #00d7ff\">None</span>, <span style=\"color: #00af00; text-decoration-color: #00af00\">6</span>, <span style=\"color: #00af00; text-decoration-color: #00af00\">6</span>, <span style=\"color: #00af00; text-decoration-color: #00af00\">128</span>)           │               <span style=\"color: #00af00; text-decoration-color: #00af00\">0</span> │\n",
              "├──────────────────────────────────────┼─────────────────────────────┼─────────────────┤\n",
              "│ flatten (<span style=\"color: #0087ff; text-decoration-color: #0087ff\">Flatten</span>)                    │ (<span style=\"color: #00d7ff; text-decoration-color: #00d7ff\">None</span>, <span style=\"color: #00af00; text-decoration-color: #00af00\">4608</span>)                │               <span style=\"color: #00af00; text-decoration-color: #00af00\">0</span> │\n",
              "├──────────────────────────────────────┼─────────────────────────────┼─────────────────┤\n",
              "│ dense (<span style=\"color: #0087ff; text-decoration-color: #0087ff\">Dense</span>)                        │ (<span style=\"color: #00d7ff; text-decoration-color: #00d7ff\">None</span>, <span style=\"color: #00af00; text-decoration-color: #00af00\">128</span>)                 │         <span style=\"color: #00af00; text-decoration-color: #00af00\">589,952</span> │\n",
              "├──────────────────────────────────────┼─────────────────────────────┼─────────────────┤\n",
              "│ dropout (<span style=\"color: #0087ff; text-decoration-color: #0087ff\">Dropout</span>)                    │ (<span style=\"color: #00d7ff; text-decoration-color: #00d7ff\">None</span>, <span style=\"color: #00af00; text-decoration-color: #00af00\">128</span>)                 │               <span style=\"color: #00af00; text-decoration-color: #00af00\">0</span> │\n",
              "├──────────────────────────────────────┼─────────────────────────────┼─────────────────┤\n",
              "│ dense_1 (<span style=\"color: #0087ff; text-decoration-color: #0087ff\">Dense</span>)                      │ (<span style=\"color: #00d7ff; text-decoration-color: #00d7ff\">None</span>, <span style=\"color: #00af00; text-decoration-color: #00af00\">10</span>)                  │           <span style=\"color: #00af00; text-decoration-color: #00af00\">1,290</span> │\n",
              "└──────────────────────────────────────┴─────────────────────────────┴─────────────────┘\n",
              "</pre>\n"
            ]
          },
          "metadata": {}
        },
        {
          "output_type": "display_data",
          "data": {
            "text/plain": [
              "\u001b[1m Total params: \u001b[0m\u001b[38;5;34m683,914\u001b[0m (2.61 MB)\n"
            ],
            "text/html": [
              "<pre style=\"white-space:pre;overflow-x:auto;line-height:normal;font-family:Menlo,'DejaVu Sans Mono',consolas,'Courier New',monospace\"><span style=\"font-weight: bold\"> Total params: </span><span style=\"color: #00af00; text-decoration-color: #00af00\">683,914</span> (2.61 MB)\n",
              "</pre>\n"
            ]
          },
          "metadata": {}
        },
        {
          "output_type": "display_data",
          "data": {
            "text/plain": [
              "\u001b[1m Trainable params: \u001b[0m\u001b[38;5;34m683,914\u001b[0m (2.61 MB)\n"
            ],
            "text/html": [
              "<pre style=\"white-space:pre;overflow-x:auto;line-height:normal;font-family:Menlo,'DejaVu Sans Mono',consolas,'Courier New',monospace\"><span style=\"font-weight: bold\"> Trainable params: </span><span style=\"color: #00af00; text-decoration-color: #00af00\">683,914</span> (2.61 MB)\n",
              "</pre>\n"
            ]
          },
          "metadata": {}
        },
        {
          "output_type": "display_data",
          "data": {
            "text/plain": [
              "\u001b[1m Non-trainable params: \u001b[0m\u001b[38;5;34m0\u001b[0m (0.00 B)\n"
            ],
            "text/html": [
              "<pre style=\"white-space:pre;overflow-x:auto;line-height:normal;font-family:Menlo,'DejaVu Sans Mono',consolas,'Courier New',monospace\"><span style=\"font-weight: bold\"> Non-trainable params: </span><span style=\"color: #00af00; text-decoration-color: #00af00\">0</span> (0.00 B)\n",
              "</pre>\n"
            ]
          },
          "metadata": {}
        }
      ]
    },
    {
      "cell_type": "code",
      "source": [
        "history = model.fit(X_train, y_train, validation_data=(X_test, y_test), epochs=20, batch_size=32)\n"
      ],
      "metadata": {
        "colab": {
          "base_uri": "https://localhost:8080/"
        },
        "id": "XLZeriiGf1pm",
        "outputId": "9321d9f5-ce2a-4e13-c3b8-275151aa1037"
      },
      "execution_count": 17,
      "outputs": [
        {
          "output_type": "stream",
          "name": "stdout",
          "text": [
            "Epoch 1/20\n",
            "\u001b[1m500/500\u001b[0m \u001b[32m━━━━━━━━━━━━━━━━━━━━\u001b[0m\u001b[37m\u001b[0m \u001b[1m117s\u001b[0m 230ms/step - accuracy: 0.6397 - loss: 1.0204 - val_accuracy: 0.9815 - val_loss: 0.0421\n",
            "Epoch 2/20\n",
            "\u001b[1m500/500\u001b[0m \u001b[32m━━━━━━━━━━━━━━━━━━━━\u001b[0m\u001b[37m\u001b[0m \u001b[1m119s\u001b[0m 237ms/step - accuracy: 0.9781 - loss: 0.0614 - val_accuracy: 0.9898 - val_loss: 0.0174\n",
            "Epoch 3/20\n",
            "\u001b[1m500/500\u001b[0m \u001b[32m━━━━━━━━━━━━━━━━━━━━\u001b[0m\u001b[37m\u001b[0m \u001b[1m140s\u001b[0m 234ms/step - accuracy: 0.9852 - loss: 0.0383 - val_accuracy: 0.9895 - val_loss: 0.0190\n",
            "Epoch 4/20\n",
            "\u001b[1m500/500\u001b[0m \u001b[32m━━━━━━━━━━━━━━━━━━━━\u001b[0m\u001b[37m\u001b[0m \u001b[1m144s\u001b[0m 238ms/step - accuracy: 0.9847 - loss: 0.0354 - val_accuracy: 0.9895 - val_loss: 0.0219\n",
            "Epoch 5/20\n",
            "\u001b[1m500/500\u001b[0m \u001b[32m━━━━━━━━━━━━━━━━━━━━\u001b[0m\u001b[37m\u001b[0m \u001b[1m136s\u001b[0m 227ms/step - accuracy: 0.9867 - loss: 0.0276 - val_accuracy: 0.9912 - val_loss: 0.0136\n",
            "Epoch 6/20\n",
            "\u001b[1m500/500\u001b[0m \u001b[32m━━━━━━━━━━━━━━━━━━━━\u001b[0m\u001b[37m\u001b[0m \u001b[1m123s\u001b[0m 246ms/step - accuracy: 0.9895 - loss: 0.0178 - val_accuracy: 0.9920 - val_loss: 0.0133\n",
            "Epoch 7/20\n",
            "\u001b[1m500/500\u001b[0m \u001b[32m━━━━━━━━━━━━━━━━━━━━\u001b[0m\u001b[37m\u001b[0m \u001b[1m117s\u001b[0m 233ms/step - accuracy: 0.9894 - loss: 0.0210 - val_accuracy: 0.9880 - val_loss: 0.0277\n",
            "Epoch 8/20\n",
            "\u001b[1m500/500\u001b[0m \u001b[32m━━━━━━━━━━━━━━━━━━━━\u001b[0m\u001b[37m\u001b[0m \u001b[1m144s\u001b[0m 237ms/step - accuracy: 0.9857 - loss: 0.0322 - val_accuracy: 0.9935 - val_loss: 0.0125\n",
            "Epoch 9/20\n",
            "\u001b[1m500/500\u001b[0m \u001b[32m━━━━━━━━━━━━━━━━━━━━\u001b[0m\u001b[37m\u001b[0m \u001b[1m143s\u001b[0m 240ms/step - accuracy: 0.9905 - loss: 0.0150 - val_accuracy: 0.9910 - val_loss: 0.0135\n",
            "Epoch 10/20\n",
            "\u001b[1m500/500\u001b[0m \u001b[32m━━━━━━━━━━━━━━━━━━━━\u001b[0m\u001b[37m\u001b[0m \u001b[1m140s\u001b[0m 235ms/step - accuracy: 0.9884 - loss: 0.0252 - val_accuracy: 0.9918 - val_loss: 0.0122\n",
            "Epoch 11/20\n",
            "\u001b[1m500/500\u001b[0m \u001b[32m━━━━━━━━━━━━━━━━━━━━\u001b[0m\u001b[37m\u001b[0m \u001b[1m140s\u001b[0m 231ms/step - accuracy: 0.9915 - loss: 0.0147 - val_accuracy: 0.9925 - val_loss: 0.0119\n",
            "Epoch 12/20\n",
            "\u001b[1m500/500\u001b[0m \u001b[32m━━━━━━━━━━━━━━━━━━━━\u001b[0m\u001b[37m\u001b[0m \u001b[1m145s\u001b[0m 238ms/step - accuracy: 0.9885 - loss: 0.0267 - val_accuracy: 0.9908 - val_loss: 0.0133\n",
            "Epoch 13/20\n",
            "\u001b[1m500/500\u001b[0m \u001b[32m━━━━━━━━━━━━━━━━━━━━\u001b[0m\u001b[37m\u001b[0m \u001b[1m124s\u001b[0m 247ms/step - accuracy: 0.9908 - loss: 0.0159 - val_accuracy: 0.9915 - val_loss: 0.0126\n",
            "Epoch 14/20\n",
            "\u001b[1m500/500\u001b[0m \u001b[32m━━━━━━━━━━━━━━━━━━━━\u001b[0m\u001b[37m\u001b[0m \u001b[1m118s\u001b[0m 236ms/step - accuracy: 0.9913 - loss: 0.0123 - val_accuracy: 0.9920 - val_loss: 0.0123\n",
            "Epoch 15/20\n",
            "\u001b[1m500/500\u001b[0m \u001b[32m━━━━━━━━━━━━━━━━━━━━\u001b[0m\u001b[37m\u001b[0m \u001b[1m145s\u001b[0m 242ms/step - accuracy: 0.9909 - loss: 0.0177 - val_accuracy: 0.9910 - val_loss: 0.0132\n",
            "Epoch 16/20\n",
            "\u001b[1m500/500\u001b[0m \u001b[32m━━━━━━━━━━━━━━━━━━━━\u001b[0m\u001b[37m\u001b[0m \u001b[1m139s\u001b[0m 235ms/step - accuracy: 0.9920 - loss: 0.0140 - val_accuracy: 0.9925 - val_loss: 0.0122\n",
            "Epoch 17/20\n",
            "\u001b[1m500/500\u001b[0m \u001b[32m━━━━━━━━━━━━━━━━━━━━\u001b[0m\u001b[37m\u001b[0m \u001b[1m120s\u001b[0m 241ms/step - accuracy: 0.9920 - loss: 0.0129 - val_accuracy: 0.9925 - val_loss: 0.0125\n",
            "Epoch 18/20\n",
            "\u001b[1m500/500\u001b[0m \u001b[32m━━━━━━━━━━━━━━━━━━━━\u001b[0m\u001b[37m\u001b[0m \u001b[1m145s\u001b[0m 247ms/step - accuracy: 0.9927 - loss: 0.0119 - val_accuracy: 0.9912 - val_loss: 0.0180\n",
            "Epoch 19/20\n",
            "\u001b[1m500/500\u001b[0m \u001b[32m━━━━━━━━━━━━━━━━━━━━\u001b[0m\u001b[37m\u001b[0m \u001b[1m136s\u001b[0m 235ms/step - accuracy: 0.9886 - loss: 0.0247 - val_accuracy: 0.9925 - val_loss: 0.0164\n",
            "Epoch 20/20\n",
            "\u001b[1m500/500\u001b[0m \u001b[32m━━━━━━━━━━━━━━━━━━━━\u001b[0m\u001b[37m\u001b[0m \u001b[1m141s\u001b[0m 233ms/step - accuracy: 0.9905 - loss: 0.0177 - val_accuracy: 0.9927 - val_loss: 0.0118\n"
          ]
        }
      ]
    },
    {
      "cell_type": "code",
      "source": [
        "# Plot accuracy\n",
        "plt.plot(history.history['accuracy'], label='Train Accuracy')\n",
        "plt.plot(history.history['val_accuracy'], label='Validation Accuracy')\n",
        "plt.xlabel(\"Epochs\")\n",
        "plt.ylabel(\"Accuracy\")\n",
        "plt.legend()\n",
        "plt.title(\"Model Accuracy\")\n",
        "plt.show()\n",
        "\n",
        "# Final evaluation\n",
        "test_loss, test_acc = model.evaluate(X_test, y_test)\n",
        "print(f\"✅ Test Accuracy: {test_acc:.2%}\")\n"
      ],
      "metadata": {
        "colab": {
          "base_uri": "https://localhost:8080/",
          "height": 508
        },
        "id": "t2gfb2eUf1wU",
        "outputId": "8fe760b4-672f-4a31-fb4e-ff15bed305f2"
      },
      "execution_count": 18,
      "outputs": [
        {
          "output_type": "display_data",
          "data": {
            "text/plain": [
              "<Figure size 640x480 with 1 Axes>"
            ],
            "image/png": "[encoded data removed]"
          },
          "metadata": {}
        },
        {
          "output_type": "stream",
          "name": "stdout",
          "text": [
            "\u001b[1m125/125\u001b[0m \u001b[32m━━━━━━━━━━━━━━━━━━━━\u001b[0m\u001b[37m\u001b[0m \u001b[1m10s\u001b[0m 83ms/step - accuracy: 0.9905 - loss: 0.0132\n",
            "✅ Test Accuracy: 99.27%\n"
          ]
        }
      ]
    },
    {
      "cell_type": "code",
      "source": [
        "model.save(\"gesture_model.h5\")  # Save model\n",
        "# To reload later:\n",
        "# model = tf.keras.models.load_model(\"gesture_model.h5\")\n"
      ],
      "metadata": {
        "colab": {
          "base_uri": "https://localhost:8080/"
        },
        "id": "seo1l5GEqQy8",
        "outputId": "2d20d4f3-68fe-49a6-be1c-5d94fcf6bea2"
      },
      "execution_count": 19,
      "outputs": [
        {
          "output_type": "stream",
          "name": "stderr",
          "text": [
            "WARNING:absl:You are saving your model as an HDF5 file via `model.save()` or `keras.saving.save_model(model)`. This file format is considered legacy. We recommend using instead the native Keras format, e.g. `model.save('my_model.keras')` or `keras.saving.save_model(model, 'my_model.keras')`. \n"
          ]
        }
      ]
    }
  ]
}